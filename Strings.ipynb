{
 "cells": [
  {
   "cell_type": "markdown",
   "id": "bac3152c",
   "metadata": {},
   "source": [
    "Strings:\n",
    "    They are text values composed of a sequence of characters."
   ]
  },
  {
   "cell_type": "code",
   "execution_count": 3,
   "id": "8abeb563",
   "metadata": {},
   "outputs": [
    {
     "data": {
      "text/plain": [
       "'Harry'"
      ]
     },
     "execution_count": 3,
     "metadata": {},
     "output_type": "execute_result"
    }
   ],
   "source": [
    "'Harry'"
   ]
  },
  {
   "cell_type": "code",
   "execution_count": 4,
   "id": "30e58c2a",
   "metadata": {},
   "outputs": [
    {
     "data": {
      "text/plain": [
       "'Harry'"
      ]
     },
     "execution_count": 4,
     "metadata": {},
     "output_type": "execute_result"
    }
   ],
   "source": [
    "\"Harry\""
   ]
  },
  {
   "cell_type": "code",
   "execution_count": 5,
   "id": "405c4793",
   "metadata": {},
   "outputs": [],
   "source": [
    "x4 = \"Tony Stark\""
   ]
  },
  {
   "cell_type": "code",
   "execution_count": 6,
   "id": "6c701edc",
   "metadata": {},
   "outputs": [
    {
     "data": {
      "text/plain": [
       "'Tony Stark'"
      ]
     },
     "execution_count": 6,
     "metadata": {},
     "output_type": "execute_result"
    }
   ],
   "source": [
    "x4"
   ]
  },
  {
   "cell_type": "code",
   "execution_count": 10,
   "id": "79b83b10",
   "metadata": {},
   "outputs": [
    {
     "name": "stdout",
     "output_type": "stream",
     "text": [
      "10 Dollars\n"
     ]
    }
   ],
   "source": [
    "y = '10'\n",
    "print(y + \" Dollars\")"
   ]
  },
  {
   "cell_type": "code",
   "execution_count": 13,
   "id": "8b281742",
   "metadata": {},
   "outputs": [
    {
     "name": "stdout",
     "output_type": "stream",
     "text": [
      "100 days\n"
     ]
    }
   ],
   "source": [
    "m = '100'\n",
    "print(m + ' days')"
   ]
  },
  {
   "cell_type": "code",
   "execution_count": 14,
   "id": "d0895c6e",
   "metadata": {},
   "outputs": [
    {
     "name": "stdout",
     "output_type": "stream",
     "text": [
      "It's cool, isn't it?\n"
     ]
    }
   ],
   "source": [
    "print(\"It's cool, isn't it?\")"
   ]
  },
  {
   "cell_type": "code",
   "execution_count": 15,
   "id": "2c56e5dc",
   "metadata": {},
   "outputs": [
    {
     "name": "stdout",
     "output_type": "stream",
     "text": [
      "Don't be shy\n"
     ]
    }
   ],
   "source": [
    "print('Don\\'t be shy')"
   ]
  },
  {
   "cell_type": "code",
   "execution_count": 17,
   "id": "4e579096",
   "metadata": {},
   "outputs": [
    {
     "name": "stdout",
     "output_type": "stream",
     "text": [
      "Big Houses\n"
     ]
    }
   ],
   "source": [
    "print('Big','Houses')"
   ]
  },
  {
   "cell_type": "code",
   "execution_count": null,
   "id": "6d4e8b96",
   "metadata": {},
   "outputs": [],
   "source": []
  }
 ],
 "metadata": {
  "kernelspec": {
   "display_name": "Python 3 (ipykernel)",
   "language": "python",
   "name": "python3"
  },
  "language_info": {
   "codemirror_mode": {
    "name": "ipython",
    "version": 3
   },
   "file_extension": ".py",
   "mimetype": "text/x-python",
   "name": "python",
   "nbconvert_exporter": "python",
   "pygments_lexer": "ipython3",
   "version": "3.10.9"
  }
 },
 "nbformat": 4,
 "nbformat_minor": 5
}
