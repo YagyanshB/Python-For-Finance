{
 "cells": [
  {
   "cell_type": "markdown",
   "id": "0daefaf0",
   "metadata": {},
   "source": [
    "Python Variables:\n",
    "\n",
    "Understanding how variables are used in Python"
   ]
  },
  {
   "cell_type": "code",
   "execution_count": 11,
   "id": "09955e5c",
   "metadata": {},
   "outputs": [],
   "source": [
    "x = 5"
   ]
  },
  {
   "cell_type": "markdown",
   "id": "32ba1815",
   "metadata": {},
   "source": [
    "In the above line of code, we have assigned a number to the variable \"x\""
   ]
  },
  {
   "cell_type": "code",
   "execution_count": 13,
   "id": "2bc47ce2",
   "metadata": {},
   "outputs": [],
   "source": [
    "y = 8"
   ]
  },
  {
   "cell_type": "markdown",
   "id": "1def8e91",
   "metadata": {},
   "source": [
    "Please note that Python is case sensitive."
   ]
  },
  {
   "cell_type": "code",
   "execution_count": 16,
   "id": "923db3ae",
   "metadata": {},
   "outputs": [
    {
     "name": "stdout",
     "output_type": "stream",
     "text": [
      "40\n"
     ]
    }
   ],
   "source": [
    "print(x*y)"
   ]
  },
  {
   "cell_type": "code",
   "execution_count": 17,
   "id": "c4481428",
   "metadata": {},
   "outputs": [],
   "source": [
    "x,y,z = (1,7,9)"
   ]
  },
  {
   "cell_type": "code",
   "execution_count": 18,
   "id": "e8c8ee0b",
   "metadata": {},
   "outputs": [
    {
     "data": {
      "text/plain": [
       "9"
      ]
     },
     "execution_count": 18,
     "metadata": {},
     "output_type": "execute_result"
    }
   ],
   "source": [
    "z"
   ]
  },
  {
   "cell_type": "code",
   "execution_count": 19,
   "id": "707f9faf",
   "metadata": {},
   "outputs": [
    {
     "data": {
      "text/plain": [
       "7"
      ]
     },
     "execution_count": 19,
     "metadata": {},
     "output_type": "execute_result"
    }
   ],
   "source": [
    "y"
   ]
  },
  {
   "cell_type": "code",
   "execution_count": 21,
   "id": "fd80840d",
   "metadata": {},
   "outputs": [
    {
     "data": {
      "text/plain": [
       "1"
      ]
     },
     "execution_count": 21,
     "metadata": {},
     "output_type": "execute_result"
    }
   ],
   "source": [
    "x"
   ]
  },
  {
   "cell_type": "code",
   "execution_count": 23,
   "id": "6b2bc231",
   "metadata": {},
   "outputs": [],
   "source": [
    "a,b,c,d = (10,20,30,40)"
   ]
  },
  {
   "cell_type": "code",
   "execution_count": 24,
   "id": "4e58da1b",
   "metadata": {},
   "outputs": [
    {
     "name": "stdout",
     "output_type": "stream",
     "text": [
      "10\n",
      "40\n"
     ]
    }
   ],
   "source": [
    "print(a)\n",
    "print(d)"
   ]
  }
 ],
 "metadata": {
  "kernelspec": {
   "display_name": "Python 3 (ipykernel)",
   "language": "python",
   "name": "python3"
  },
  "language_info": {
   "codemirror_mode": {
    "name": "ipython",
    "version": 3
   },
   "file_extension": ".py",
   "mimetype": "text/x-python",
   "name": "python",
   "nbconvert_exporter": "python",
   "pygments_lexer": "ipython3",
   "version": "3.10.9"
  }
 },
 "nbformat": 4,
 "nbformat_minor": 5
}
